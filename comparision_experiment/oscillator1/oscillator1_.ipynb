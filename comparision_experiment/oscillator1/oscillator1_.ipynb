{
 "cells": [
  {
   "cell_type": "markdown",
   "id": "57ff1150",
   "metadata": {},
   "source": [
    "# 振子1实验："
   ]
  },
  {
   "cell_type": "markdown",
   "id": "699bcb67",
   "metadata": {},
   "source": [
    "## 使用SINDY测试"
   ]
  },
  {
   "cell_type": "code",
   "execution_count": null,
   "id": "0109ef20",
   "metadata": {},
   "outputs": [
    {
     "name": "stdout",
     "output_type": "stream",
     "text": [
      "(x0)' = -0.500 x0 x1 + -0.200 x0^3 + -0.500 x1^3 + 0.800 sin(1 x0) + -1.000 x*cos(x)\n",
      "均方误差 (MSE): 5.075484216875559e-32\n"
     ]
    },
    {
     "name": "stderr",
     "output_type": "stream",
     "text": [
      "c:\\anacoda\\envs\\pytorch\\Lib\\site-packages\\pysindy\\optimizers\\sr3.py:390: ConvergenceWarning: SR3._reduce did not converge after 30 iterations.\n",
      "  warnings.warn(\n"
     ]
    }
   ],
   "source": [
    "import numpy as np\n",
    "import matplotlib.pyplot as plt\n",
    "from scipy.integrate import solve_ivp\n",
    "import pysindy as ps\n",
    "from pysindy.feature_library import GeneralizedLibrary, PolynomialLibrary, FourierLibrary\n",
    "import pandas as pd\n",
    "from sklearn.metrics import mean_squared_error\n",
    "from sklearn.linear_model import Lasso\n",
    "\n",
    "# 自定义特征函数\n",
    "def x_cos_x(x):\n",
    "    return x * np.cos(x)\n",
    "\n",
    "def x_sin_x(x):\n",
    "    return x * np.sin(x)\n",
    "\n",
    "def exp_x(x):\n",
    "    return np.exp(x)\n",
    "\n",
    "# 修复 function_names 参数，确保其为字符串列表\n",
    "custom_library = ps.CustomLibrary(\n",
    "    library_functions=[x_cos_x, x_sin_x, exp_x],\n",
    "    function_names=[lambda x: \"x*cos(x)\", lambda x: \"x*sin(x)\", lambda x: \"exp(x)\"]  # 使用 lambda 确保正确的字符串表示\n",
    ")\n",
    "\n",
    "# 1. 读取数据\n",
    "df = pd.read_csv('./test_ood.csv')\n",
    "x = df['x'].values\n",
    "v = df['v'].values\n",
    "a = df['a'].values\n",
    "\n",
    "X = np.vstack((x, v)).T\n",
    "y = a.T\n",
    "\n",
    "# 2. 构建并拟合 SINDy 模型\n",
    "#    - 用多项式库（degree=5）来捕捉 sin(theta) 展开\n",
    "#    - 用 STLSQ 稀疏回归\n",
    "poly_lib = PolynomialLibrary(degree=3)            # [1, x, x^2, x^3]\n",
    "fourier_lib = FourierLibrary(n_frequencies=2)      #  [1, sin(x), cos(x), sin(2x), cos(2x)]\n",
    "library = GeneralizedLibrary(libraries=[poly_lib, fourier_lib, custom_library])\n",
    "#optimizer = Lasso(alpha=0.001)  # 设置正则化强度\n",
    "#optimizer = ps.STLSQ(threshold=0.1, alpha=0.01)  # 稀疏回归\n",
    "optimizer = ps.SR3(threshold=0.1)  # 稀疏回归\n",
    "model = ps.SINDy(feature_library=library, optimizer=optimizer)\n",
    "model.fit(X, x_dot=a)\n",
    "model.print()  # 打印识别出的方程\n",
    "\n",
    "# 使用模型预测\n",
    "predicted_values = model.predict(X)\n",
    "\n",
    "# 计算均方误差 (MSE)\n",
    "mse = mean_squared_error(a, predicted_values)\n",
    "print(f\"均方误差 (MSE): {mse}\")\n",
    "\n"
   ]
  },
  {
   "cell_type": "markdown",
   "id": "803aac05",
   "metadata": {},
   "source": [
    "# 使用PYSR测试"
   ]
  },
  {
   "cell_type": "code",
   "execution_count": null,
   "id": "46a0f7ba",
   "metadata": {},
   "outputs": [
    {
     "name": "stdout",
     "output_type": "stream",
     "text": [
      "Detected IPython. Loading juliacall extension. See https://juliapy.github.io/PythonCall.jl/stable/compat/#IPython\n",
      "Fitting model...\n",
      "Compiling Julia backend...\n"
     ]
    },
    {
     "name": "stderr",
     "output_type": "stream",
     "text": [
      "c:\\anacoda\\envs\\pytorch\\Lib\\site-packages\\pysr\\sr.py:2737: UserWarning: Note: it looks like you are running in Jupyter. The progress bar will be turned off.\n",
      "  warnings.warn(\n",
      "c:\\anacoda\\envs\\pytorch\\Lib\\site-packages\\sklearn\\base.py:474: FutureWarning: `BaseEstimator._validate_data` is deprecated in 1.6 and will be removed in 1.7. Use `sklearn.utils.validation.validate_data` instead. This function becomes public and is part of the scikit-learn developer API.\n",
      "  warnings.warn(\n"
     ]
    },
    {
     "ename": "JuliaError",
     "evalue": "Operator log is not in the operator set.\nStacktrace:\n [1] error(s::String)\n   @ Base .\\error.jl:35\n [2] build_nested_constraints(; binary_operators::Any, unary_operators::Any, nested_constraints::Dict{Function, Dict{Function, Int64}})\n   @ SymbolicRegression.CoreModule.OptionsModule C:\\Users\\19464\\.julia\\packages\\SymbolicRegression\\BInZG\\src\\Options.jl:113\n [3] Options(; defaults::Union{Nothing, VersionNumber}, binary_operators::Any, unary_operators::Any, maxsize::Union{Nothing, Integer}, maxdepth::Union{Nothing, Integer}, expression_type::Type{<:AbstractExpression}, expression_options::NamedTuple, node_type::Type{<:AbstractExpressionNode}, populations::Union{Nothing, Integer}, population_size::Union{Nothing, Integer}, ncycles_per_iteration::Union{Nothing, Integer}, elementwise_loss::Union{Nothing, Function, SupervisedLoss}, loss_function::Union{Nothing, Function}, dimensional_constraint_penalty::Union{Nothing, Real}, parsimony::Union{Nothing, Real}, constraints::Any, nested_constraints::Any, complexity_of_operators::Any, complexity_of_constants::Union{Nothing, Real}, complexity_of_variables::Union{Nothing, Real, AbstractVector}, warmup_maxsize_by::Union{Nothing, Real}, adaptive_parsimony_scaling::Union{Nothing, Real}, mutation_weights::Union{Nothing, SymbolicRegression.CoreModule.MutationWeightsModule.AbstractMutationWeights, NamedTuple, AbstractVector}, crossover_probability::Union{Nothing, Real}, annealing::Union{Nothing, Bool}, alpha::Union{Nothing, Real}, probability_negate_constant::Union{Nothing, Real}, tournament_selection_n::Union{Nothing, Integer}, tournament_selection_p::Union{Nothing, Real}, early_stop_condition::Union{Nothing, Function, Real}, batching::Union{Nothing, Bool}, batch_size::Union{Nothing, Integer}, dimensionless_constants_only::Bool, complexity_mapping::Nothing, use_frequency::Bool, use_frequency_in_tournament::Bool, should_simplify::Bool, perturbation_factor::Float64, skip_mutation_failures::Bool, optimizer_algorithm::String, optimizer_nrestarts::Int64, optimizer_probability::Float64, optimizer_iterations::Int64, optimizer_f_calls_limit::Nothing, optimizer_options::Nothing, should_optimize_constants::Bool, migration::Bool, hof_migration::Bool, fraction_replaced::Float64, fraction_replaced_hof::Float64, topn::Int64, timeout_in_seconds::Nothing, max_evals::Nothing, turbo::Bool, bumper::Bool, autodiff_backend::Nothing, deterministic::Bool, seed::Int64, verbosity::Nothing, print_precision::Int64, progress::Nothing, output_directory::String, save_to_file::Bool, bin_constraints::Vector{Tuple{Int64, Int64}}, una_constraints::Vector{Int64}, terminal_width::Nothing, use_recorder::Bool, recorder_file::String, define_helper_functions::Bool, output_file::Nothing, fast_cycle::Bool, npopulations::Int64, npop::Int64, deprecated_return_state::Nothing, kws::@Kwargs{})\n   @ SymbolicRegression.CoreModule.OptionsModule C:\\Users\\19464\\.julia\\packages\\SymbolicRegression\\BInZG\\src\\Options.jl:750\n [4] pyjlany_call(self::Type{Options}, args_::Py, kwargs_::Py)\n   @ PythonCall.JlWrap C:\\Users\\19464\\.julia\\packages\\PythonCall\\Nr75f\\src\\JlWrap\\any.jl:40\n [5] _pyjl_callmethod(f::Any, self_::Ptr{PythonCall.C.PyObject}, args_::Ptr{PythonCall.C.PyObject}, nargs::Int64)\n   @ PythonCall.JlWrap C:\\Users\\19464\\.julia\\packages\\PythonCall\\Nr75f\\src\\JlWrap\\base.jl:73\n [6] _pyjl_callmethod(o::Ptr{PythonCall.C.PyObject}, args::Ptr{PythonCall.C.PyObject})\n   @ PythonCall.JlWrap.Cjl C:\\Users\\19464\\.julia\\packages\\PythonCall\\Nr75f\\src\\JlWrap\\C.jl:63",
     "output_type": "error",
     "traceback": [
      "\u001b[1;31m---------------------------------------------------------------------------\u001b[0m",
      "\u001b[1;31mJuliaError\u001b[0m                                Traceback (most recent call last)",
      "Cell \u001b[1;32mIn[1], line 36\u001b[0m\n\u001b[0;32m     34\u001b[0m \u001b[38;5;66;03m# 拟合模型\u001b[39;00m\n\u001b[0;32m     35\u001b[0m \u001b[38;5;28mprint\u001b[39m(\u001b[38;5;124m\"\u001b[39m\u001b[38;5;124mFitting model...\u001b[39m\u001b[38;5;124m\"\u001b[39m)\n\u001b[1;32m---> 36\u001b[0m \u001b[43mmodel\u001b[49m\u001b[38;5;241;43m.\u001b[39;49m\u001b[43mfit\u001b[49m\u001b[43m(\u001b[49m\u001b[43mX\u001b[49m\u001b[43m,\u001b[49m\u001b[43m \u001b[49m\u001b[43my\u001b[49m\u001b[43m)\u001b[49m\n\u001b[0;32m     38\u001b[0m \u001b[38;5;66;03m# 输出最佳表达式\u001b[39;00m\n\u001b[0;32m     39\u001b[0m \u001b[38;5;28;01mfor\u001b[39;00m i, expr \u001b[38;5;129;01min\u001b[39;00m \u001b[38;5;28menumerate\u001b[39m(model\u001b[38;5;241m.\u001b[39mequations_):\n",
      "File \u001b[1;32mc:\\anacoda\\envs\\pytorch\\Lib\\site-packages\\pysr\\sr.py:2250\u001b[0m, in \u001b[0;36mPySRRegressor.fit\u001b[1;34m(self, X, y, Xresampled, weights, variable_names, complexity_of_variables, X_units, y_units, category)\u001b[0m\n\u001b[0;32m   2247\u001b[0m     \u001b[38;5;28mself\u001b[39m\u001b[38;5;241m.\u001b[39m_checkpoint()\n\u001b[0;32m   2249\u001b[0m \u001b[38;5;66;03m# Perform the search:\u001b[39;00m\n\u001b[1;32m-> 2250\u001b[0m \u001b[38;5;28;43mself\u001b[39;49m\u001b[38;5;241;43m.\u001b[39;49m\u001b[43m_run\u001b[49m\u001b[43m(\u001b[49m\u001b[43mX\u001b[49m\u001b[43m,\u001b[49m\u001b[43m \u001b[49m\u001b[43my\u001b[49m\u001b[43m,\u001b[49m\u001b[43m \u001b[49m\u001b[43mruntime_params\u001b[49m\u001b[43m,\u001b[49m\u001b[43m \u001b[49m\u001b[43mweights\u001b[49m\u001b[38;5;241;43m=\u001b[39;49m\u001b[43mweights\u001b[49m\u001b[43m,\u001b[49m\u001b[43m \u001b[49m\u001b[43mseed\u001b[49m\u001b[38;5;241;43m=\u001b[39;49m\u001b[43mseed\u001b[49m\u001b[43m,\u001b[49m\u001b[43m \u001b[49m\u001b[43mcategory\u001b[49m\u001b[38;5;241;43m=\u001b[39;49m\u001b[43mcategory\u001b[49m\u001b[43m)\u001b[49m\n\u001b[0;32m   2252\u001b[0m \u001b[38;5;66;03m# Then, after fit, we save again, so the pickle file contains\u001b[39;00m\n\u001b[0;32m   2253\u001b[0m \u001b[38;5;66;03m# the equations:\u001b[39;00m\n\u001b[0;32m   2254\u001b[0m \u001b[38;5;28;01mif\u001b[39;00m \u001b[38;5;129;01mnot\u001b[39;00m \u001b[38;5;28mself\u001b[39m\u001b[38;5;241m.\u001b[39mtemp_equation_file:\n",
      "File \u001b[1;32mc:\\anacoda\\envs\\pytorch\\Lib\\site-packages\\pysr\\sr.py:1932\u001b[0m, in \u001b[0;36mPySRRegressor._run\u001b[1;34m(self, X, y, runtime_params, weights, category, seed)\u001b[0m\n\u001b[0;32m   1928\u001b[0m \u001b[38;5;28mself\u001b[39m\u001b[38;5;241m.\u001b[39mlogger_ \u001b[38;5;241m=\u001b[39m logger\n\u001b[0;32m   1930\u001b[0m \u001b[38;5;66;03m# Call to Julia backend.\u001b[39;00m\n\u001b[0;32m   1931\u001b[0m \u001b[38;5;66;03m# See https://github.com/MilesCranmer/SymbolicRegression.jl/blob/master/src/OptionsStruct.jl\u001b[39;00m\n\u001b[1;32m-> 1932\u001b[0m options \u001b[38;5;241m=\u001b[39m \u001b[43mSymbolicRegression\u001b[49m\u001b[38;5;241;43m.\u001b[39;49m\u001b[43mOptions\u001b[49m\u001b[43m(\u001b[49m\n\u001b[0;32m   1933\u001b[0m \u001b[43m    \u001b[49m\u001b[43mbinary_operators\u001b[49m\u001b[38;5;241;43m=\u001b[39;49m\u001b[43mjl_array\u001b[49m\u001b[43m(\u001b[49m\u001b[43mjl_binary_operators\u001b[49m\u001b[43m,\u001b[49m\u001b[43m \u001b[49m\u001b[43mdtype\u001b[49m\u001b[38;5;241;43m=\u001b[39;49m\u001b[43mjl\u001b[49m\u001b[38;5;241;43m.\u001b[39;49m\u001b[43mFunction\u001b[49m\u001b[43m)\u001b[49m\u001b[43m,\u001b[49m\n\u001b[0;32m   1934\u001b[0m \u001b[43m    \u001b[49m\u001b[43munary_operators\u001b[49m\u001b[38;5;241;43m=\u001b[39;49m\u001b[43mjl_array\u001b[49m\u001b[43m(\u001b[49m\u001b[43mjl_unary_operators\u001b[49m\u001b[43m,\u001b[49m\u001b[43m \u001b[49m\u001b[43mdtype\u001b[49m\u001b[38;5;241;43m=\u001b[39;49m\u001b[43mjl\u001b[49m\u001b[38;5;241;43m.\u001b[39;49m\u001b[43mFunction\u001b[49m\u001b[43m)\u001b[49m\u001b[43m,\u001b[49m\n\u001b[0;32m   1935\u001b[0m \u001b[43m    \u001b[49m\u001b[43mbin_constraints\u001b[49m\u001b[38;5;241;43m=\u001b[39;49m\u001b[43mjl_array\u001b[49m\u001b[43m(\u001b[49m\u001b[43mbin_constraints\u001b[49m\u001b[43m)\u001b[49m\u001b[43m,\u001b[49m\n\u001b[0;32m   1936\u001b[0m \u001b[43m    \u001b[49m\u001b[43muna_constraints\u001b[49m\u001b[38;5;241;43m=\u001b[39;49m\u001b[43mjl_array\u001b[49m\u001b[43m(\u001b[49m\u001b[43muna_constraints\u001b[49m\u001b[43m)\u001b[49m\u001b[43m,\u001b[49m\n\u001b[0;32m   1937\u001b[0m \u001b[43m    \u001b[49m\u001b[43mcomplexity_of_operators\u001b[49m\u001b[38;5;241;43m=\u001b[39;49m\u001b[43mcomplexity_of_operators\u001b[49m\u001b[43m,\u001b[49m\n\u001b[0;32m   1938\u001b[0m \u001b[43m    \u001b[49m\u001b[43mcomplexity_of_constants\u001b[49m\u001b[38;5;241;43m=\u001b[39;49m\u001b[38;5;28;43mself\u001b[39;49m\u001b[38;5;241;43m.\u001b[39;49m\u001b[43mcomplexity_of_constants\u001b[49m\u001b[43m,\u001b[49m\n\u001b[0;32m   1939\u001b[0m \u001b[43m    \u001b[49m\u001b[43mcomplexity_of_variables\u001b[49m\u001b[38;5;241;43m=\u001b[39;49m\u001b[43mcomplexity_of_variables\u001b[49m\u001b[43m,\u001b[49m\n\u001b[0;32m   1940\u001b[0m \u001b[43m    \u001b[49m\u001b[43mcomplexity_mapping\u001b[49m\u001b[38;5;241;43m=\u001b[39;49m\u001b[43mcomplexity_mapping\u001b[49m\u001b[43m,\u001b[49m\n\u001b[0;32m   1941\u001b[0m \u001b[43m    \u001b[49m\u001b[43mexpression_type\u001b[49m\u001b[38;5;241;43m=\u001b[39;49m\u001b[38;5;28;43mself\u001b[39;49m\u001b[38;5;241;43m.\u001b[39;49m\u001b[43mexpression_spec_\u001b[49m\u001b[38;5;241;43m.\u001b[39;49m\u001b[43mjulia_expression_type\u001b[49m\u001b[43m(\u001b[49m\u001b[43m)\u001b[49m\u001b[43m,\u001b[49m\n\u001b[0;32m   1942\u001b[0m \u001b[43m    \u001b[49m\u001b[43mexpression_options\u001b[49m\u001b[38;5;241;43m=\u001b[39;49m\u001b[38;5;28;43mself\u001b[39;49m\u001b[38;5;241;43m.\u001b[39;49m\u001b[43mexpression_spec_\u001b[49m\u001b[38;5;241;43m.\u001b[39;49m\u001b[43mjulia_expression_options\u001b[49m\u001b[43m(\u001b[49m\u001b[43m)\u001b[49m\u001b[43m,\u001b[49m\n\u001b[0;32m   1943\u001b[0m \u001b[43m    \u001b[49m\u001b[43mnested_constraints\u001b[49m\u001b[38;5;241;43m=\u001b[39;49m\u001b[43mnested_constraints\u001b[49m\u001b[43m,\u001b[49m\n\u001b[0;32m   1944\u001b[0m \u001b[43m    \u001b[49m\u001b[43melementwise_loss\u001b[49m\u001b[38;5;241;43m=\u001b[39;49m\u001b[43mcustom_loss\u001b[49m\u001b[43m,\u001b[49m\n\u001b[0;32m   1945\u001b[0m \u001b[43m    \u001b[49m\u001b[43mloss_function\u001b[49m\u001b[38;5;241;43m=\u001b[39;49m\u001b[43mcustom_full_objective\u001b[49m\u001b[43m,\u001b[49m\n\u001b[0;32m   1946\u001b[0m \u001b[43m    \u001b[49m\u001b[43mmaxsize\u001b[49m\u001b[38;5;241;43m=\u001b[39;49m\u001b[38;5;28;43mint\u001b[39;49m\u001b[43m(\u001b[49m\u001b[38;5;28;43mself\u001b[39;49m\u001b[38;5;241;43m.\u001b[39;49m\u001b[43mmaxsize\u001b[49m\u001b[43m)\u001b[49m\u001b[43m,\u001b[49m\n\u001b[0;32m   1947\u001b[0m \u001b[43m    \u001b[49m\u001b[43moutput_directory\u001b[49m\u001b[38;5;241;43m=\u001b[39;49m\u001b[43m_escape_filename\u001b[49m\u001b[43m(\u001b[49m\u001b[38;5;28;43mself\u001b[39;49m\u001b[38;5;241;43m.\u001b[39;49m\u001b[43moutput_directory_\u001b[49m\u001b[43m)\u001b[49m\u001b[43m,\u001b[49m\n\u001b[0;32m   1948\u001b[0m \u001b[43m    \u001b[49m\u001b[43mnpopulations\u001b[49m\u001b[38;5;241;43m=\u001b[39;49m\u001b[38;5;28;43mint\u001b[39;49m\u001b[43m(\u001b[49m\u001b[38;5;28;43mself\u001b[39;49m\u001b[38;5;241;43m.\u001b[39;49m\u001b[43mpopulations\u001b[49m\u001b[43m)\u001b[49m\u001b[43m,\u001b[49m\n\u001b[0;32m   1949\u001b[0m \u001b[43m    \u001b[49m\u001b[43mbatching\u001b[49m\u001b[38;5;241;43m=\u001b[39;49m\u001b[38;5;28;43mself\u001b[39;49m\u001b[38;5;241;43m.\u001b[39;49m\u001b[43mbatching\u001b[49m\u001b[43m,\u001b[49m\n\u001b[0;32m   1950\u001b[0m \u001b[43m    \u001b[49m\u001b[43mbatch_size\u001b[49m\u001b[38;5;241;43m=\u001b[39;49m\u001b[38;5;28;43mint\u001b[39;49m\u001b[43m(\u001b[49m\n\u001b[0;32m   1951\u001b[0m \u001b[43m        \u001b[49m\u001b[38;5;28;43mmin\u001b[39;49m\u001b[43m(\u001b[49m\u001b[43m[\u001b[49m\u001b[43mruntime_params\u001b[49m\u001b[38;5;241;43m.\u001b[39;49m\u001b[43mbatch_size\u001b[49m\u001b[43m,\u001b[49m\u001b[43m \u001b[49m\u001b[38;5;28;43mlen\u001b[39;49m\u001b[43m(\u001b[49m\u001b[43mX\u001b[49m\u001b[43m)\u001b[49m\u001b[43m]\u001b[49m\u001b[43m)\u001b[49m\u001b[43m \u001b[49m\u001b[38;5;28;43;01mif\u001b[39;49;00m\u001b[43m \u001b[49m\u001b[38;5;28;43mself\u001b[39;49m\u001b[38;5;241;43m.\u001b[39;49m\u001b[43mbatching\u001b[49m\u001b[43m \u001b[49m\u001b[38;5;28;43;01melse\u001b[39;49;00m\u001b[43m \u001b[49m\u001b[38;5;28;43mlen\u001b[39;49m\u001b[43m(\u001b[49m\u001b[43mX\u001b[49m\u001b[43m)\u001b[49m\n\u001b[0;32m   1952\u001b[0m \u001b[43m    \u001b[49m\u001b[43m)\u001b[49m\u001b[43m,\u001b[49m\n\u001b[0;32m   1953\u001b[0m \u001b[43m    \u001b[49m\u001b[43mmutation_weights\u001b[49m\u001b[38;5;241;43m=\u001b[39;49m\u001b[43mmutation_weights\u001b[49m\u001b[43m,\u001b[49m\n\u001b[0;32m   1954\u001b[0m \u001b[43m    \u001b[49m\u001b[43mtournament_selection_p\u001b[49m\u001b[38;5;241;43m=\u001b[39;49m\u001b[38;5;28;43mself\u001b[39;49m\u001b[38;5;241;43m.\u001b[39;49m\u001b[43mtournament_selection_p\u001b[49m\u001b[43m,\u001b[49m\n\u001b[0;32m   1955\u001b[0m \u001b[43m    \u001b[49m\u001b[43mtournament_selection_n\u001b[49m\u001b[38;5;241;43m=\u001b[39;49m\u001b[38;5;28;43mself\u001b[39;49m\u001b[38;5;241;43m.\u001b[39;49m\u001b[43mtournament_selection_n\u001b[49m\u001b[43m,\u001b[49m\n\u001b[0;32m   1956\u001b[0m \u001b[43m    \u001b[49m\u001b[38;5;66;43;03m# These have the same name:\u001b[39;49;00m\n\u001b[0;32m   1957\u001b[0m \u001b[43m    \u001b[49m\u001b[43mparsimony\u001b[49m\u001b[38;5;241;43m=\u001b[39;49m\u001b[38;5;28;43mself\u001b[39;49m\u001b[38;5;241;43m.\u001b[39;49m\u001b[43mparsimony\u001b[49m\u001b[43m,\u001b[49m\n\u001b[0;32m   1958\u001b[0m \u001b[43m    \u001b[49m\u001b[43mdimensional_constraint_penalty\u001b[49m\u001b[38;5;241;43m=\u001b[39;49m\u001b[38;5;28;43mself\u001b[39;49m\u001b[38;5;241;43m.\u001b[39;49m\u001b[43mdimensional_constraint_penalty\u001b[49m\u001b[43m,\u001b[49m\n\u001b[0;32m   1959\u001b[0m \u001b[43m    \u001b[49m\u001b[43mdimensionless_constants_only\u001b[49m\u001b[38;5;241;43m=\u001b[39;49m\u001b[38;5;28;43mself\u001b[39;49m\u001b[38;5;241;43m.\u001b[39;49m\u001b[43mdimensionless_constants_only\u001b[49m\u001b[43m,\u001b[49m\n\u001b[0;32m   1960\u001b[0m \u001b[43m    \u001b[49m\u001b[43malpha\u001b[49m\u001b[38;5;241;43m=\u001b[39;49m\u001b[38;5;28;43mself\u001b[39;49m\u001b[38;5;241;43m.\u001b[39;49m\u001b[43malpha\u001b[49m\u001b[43m,\u001b[49m\n\u001b[0;32m   1961\u001b[0m \u001b[43m    \u001b[49m\u001b[43mmaxdepth\u001b[49m\u001b[38;5;241;43m=\u001b[39;49m\u001b[43mruntime_params\u001b[49m\u001b[38;5;241;43m.\u001b[39;49m\u001b[43mmaxdepth\u001b[49m\u001b[43m,\u001b[49m\n\u001b[0;32m   1962\u001b[0m \u001b[43m    \u001b[49m\u001b[43mfast_cycle\u001b[49m\u001b[38;5;241;43m=\u001b[39;49m\u001b[38;5;28;43mself\u001b[39;49m\u001b[38;5;241;43m.\u001b[39;49m\u001b[43mfast_cycle\u001b[49m\u001b[43m,\u001b[49m\n\u001b[0;32m   1963\u001b[0m \u001b[43m    \u001b[49m\u001b[43mturbo\u001b[49m\u001b[38;5;241;43m=\u001b[39;49m\u001b[38;5;28;43mself\u001b[39;49m\u001b[38;5;241;43m.\u001b[39;49m\u001b[43mturbo\u001b[49m\u001b[43m,\u001b[49m\n\u001b[0;32m   1964\u001b[0m \u001b[43m    \u001b[49m\u001b[43mbumper\u001b[49m\u001b[38;5;241;43m=\u001b[39;49m\u001b[38;5;28;43mself\u001b[39;49m\u001b[38;5;241;43m.\u001b[39;49m\u001b[43mbumper\u001b[49m\u001b[43m,\u001b[49m\n\u001b[0;32m   1965\u001b[0m \u001b[43m    \u001b[49m\u001b[43mautodiff_backend\u001b[49m\u001b[38;5;241;43m=\u001b[39;49m\u001b[43mautodiff_backend\u001b[49m\u001b[43m,\u001b[49m\n\u001b[0;32m   1966\u001b[0m \u001b[43m    \u001b[49m\u001b[43mmigration\u001b[49m\u001b[38;5;241;43m=\u001b[39;49m\u001b[38;5;28;43mself\u001b[39;49m\u001b[38;5;241;43m.\u001b[39;49m\u001b[43mmigration\u001b[49m\u001b[43m,\u001b[49m\n\u001b[0;32m   1967\u001b[0m \u001b[43m    \u001b[49m\u001b[43mhof_migration\u001b[49m\u001b[38;5;241;43m=\u001b[39;49m\u001b[38;5;28;43mself\u001b[39;49m\u001b[38;5;241;43m.\u001b[39;49m\u001b[43mhof_migration\u001b[49m\u001b[43m,\u001b[49m\n\u001b[0;32m   1968\u001b[0m \u001b[43m    \u001b[49m\u001b[43mfraction_replaced_hof\u001b[49m\u001b[38;5;241;43m=\u001b[39;49m\u001b[38;5;28;43mself\u001b[39;49m\u001b[38;5;241;43m.\u001b[39;49m\u001b[43mfraction_replaced_hof\u001b[49m\u001b[43m,\u001b[49m\n\u001b[0;32m   1969\u001b[0m \u001b[43m    \u001b[49m\u001b[43mshould_simplify\u001b[49m\u001b[38;5;241;43m=\u001b[39;49m\u001b[38;5;28;43mself\u001b[39;49m\u001b[38;5;241;43m.\u001b[39;49m\u001b[43mshould_simplify\u001b[49m\u001b[43m,\u001b[49m\n\u001b[0;32m   1970\u001b[0m \u001b[43m    \u001b[49m\u001b[43mshould_optimize_constants\u001b[49m\u001b[38;5;241;43m=\u001b[39;49m\u001b[38;5;28;43mself\u001b[39;49m\u001b[38;5;241;43m.\u001b[39;49m\u001b[43mshould_optimize_constants\u001b[49m\u001b[43m,\u001b[49m\n\u001b[0;32m   1971\u001b[0m \u001b[43m    \u001b[49m\u001b[43mwarmup_maxsize_by\u001b[49m\u001b[38;5;241;43m=\u001b[39;49m\u001b[43mruntime_params\u001b[49m\u001b[38;5;241;43m.\u001b[39;49m\u001b[43mwarmup_maxsize_by\u001b[49m\u001b[43m,\u001b[49m\n\u001b[0;32m   1972\u001b[0m \u001b[43m    \u001b[49m\u001b[43muse_frequency\u001b[49m\u001b[38;5;241;43m=\u001b[39;49m\u001b[38;5;28;43mself\u001b[39;49m\u001b[38;5;241;43m.\u001b[39;49m\u001b[43muse_frequency\u001b[49m\u001b[43m,\u001b[49m\n\u001b[0;32m   1973\u001b[0m \u001b[43m    \u001b[49m\u001b[43muse_frequency_in_tournament\u001b[49m\u001b[38;5;241;43m=\u001b[39;49m\u001b[38;5;28;43mself\u001b[39;49m\u001b[38;5;241;43m.\u001b[39;49m\u001b[43muse_frequency_in_tournament\u001b[49m\u001b[43m,\u001b[49m\n\u001b[0;32m   1974\u001b[0m \u001b[43m    \u001b[49m\u001b[43madaptive_parsimony_scaling\u001b[49m\u001b[38;5;241;43m=\u001b[39;49m\u001b[38;5;28;43mself\u001b[39;49m\u001b[38;5;241;43m.\u001b[39;49m\u001b[43madaptive_parsimony_scaling\u001b[49m\u001b[43m,\u001b[49m\n\u001b[0;32m   1975\u001b[0m \u001b[43m    \u001b[49m\u001b[43mnpop\u001b[49m\u001b[38;5;241;43m=\u001b[39;49m\u001b[38;5;28;43mself\u001b[39;49m\u001b[38;5;241;43m.\u001b[39;49m\u001b[43mpopulation_size\u001b[49m\u001b[43m,\u001b[49m\n\u001b[0;32m   1976\u001b[0m \u001b[43m    \u001b[49m\u001b[43mncycles_per_iteration\u001b[49m\u001b[38;5;241;43m=\u001b[39;49m\u001b[38;5;28;43mself\u001b[39;49m\u001b[38;5;241;43m.\u001b[39;49m\u001b[43mncycles_per_iteration\u001b[49m\u001b[43m,\u001b[49m\n\u001b[0;32m   1977\u001b[0m \u001b[43m    \u001b[49m\u001b[43mfraction_replaced\u001b[49m\u001b[38;5;241;43m=\u001b[39;49m\u001b[38;5;28;43mself\u001b[39;49m\u001b[38;5;241;43m.\u001b[39;49m\u001b[43mfraction_replaced\u001b[49m\u001b[43m,\u001b[49m\n\u001b[0;32m   1978\u001b[0m \u001b[43m    \u001b[49m\u001b[43mtopn\u001b[49m\u001b[38;5;241;43m=\u001b[39;49m\u001b[38;5;28;43mself\u001b[39;49m\u001b[38;5;241;43m.\u001b[39;49m\u001b[43mtopn\u001b[49m\u001b[43m,\u001b[49m\n\u001b[0;32m   1979\u001b[0m \u001b[43m    \u001b[49m\u001b[43mprint_precision\u001b[49m\u001b[38;5;241;43m=\u001b[39;49m\u001b[38;5;28;43mself\u001b[39;49m\u001b[38;5;241;43m.\u001b[39;49m\u001b[43mprint_precision\u001b[49m\u001b[43m,\u001b[49m\n\u001b[0;32m   1980\u001b[0m \u001b[43m    \u001b[49m\u001b[43moptimizer_algorithm\u001b[49m\u001b[38;5;241;43m=\u001b[39;49m\u001b[38;5;28;43mself\u001b[39;49m\u001b[38;5;241;43m.\u001b[39;49m\u001b[43moptimizer_algorithm\u001b[49m\u001b[43m,\u001b[49m\n\u001b[0;32m   1981\u001b[0m \u001b[43m    \u001b[49m\u001b[43moptimizer_nrestarts\u001b[49m\u001b[38;5;241;43m=\u001b[39;49m\u001b[38;5;28;43mself\u001b[39;49m\u001b[38;5;241;43m.\u001b[39;49m\u001b[43moptimizer_nrestarts\u001b[49m\u001b[43m,\u001b[49m\n\u001b[0;32m   1982\u001b[0m \u001b[43m    \u001b[49m\u001b[43moptimizer_f_calls_limit\u001b[49m\u001b[38;5;241;43m=\u001b[39;49m\u001b[38;5;28;43mself\u001b[39;49m\u001b[38;5;241;43m.\u001b[39;49m\u001b[43moptimizer_f_calls_limit\u001b[49m\u001b[43m,\u001b[49m\n\u001b[0;32m   1983\u001b[0m \u001b[43m    \u001b[49m\u001b[43moptimizer_probability\u001b[49m\u001b[38;5;241;43m=\u001b[39;49m\u001b[38;5;28;43mself\u001b[39;49m\u001b[38;5;241;43m.\u001b[39;49m\u001b[43moptimize_probability\u001b[49m\u001b[43m,\u001b[49m\n\u001b[0;32m   1984\u001b[0m \u001b[43m    \u001b[49m\u001b[43moptimizer_iterations\u001b[49m\u001b[38;5;241;43m=\u001b[39;49m\u001b[38;5;28;43mself\u001b[39;49m\u001b[38;5;241;43m.\u001b[39;49m\u001b[43moptimizer_iterations\u001b[49m\u001b[43m,\u001b[49m\n\u001b[0;32m   1985\u001b[0m \u001b[43m    \u001b[49m\u001b[43mperturbation_factor\u001b[49m\u001b[38;5;241;43m=\u001b[39;49m\u001b[38;5;28;43mself\u001b[39;49m\u001b[38;5;241;43m.\u001b[39;49m\u001b[43mperturbation_factor\u001b[49m\u001b[43m,\u001b[49m\n\u001b[0;32m   1986\u001b[0m \u001b[43m    \u001b[49m\u001b[43mprobability_negate_constant\u001b[49m\u001b[38;5;241;43m=\u001b[39;49m\u001b[38;5;28;43mself\u001b[39;49m\u001b[38;5;241;43m.\u001b[39;49m\u001b[43mprobability_negate_constant\u001b[49m\u001b[43m,\u001b[49m\n\u001b[0;32m   1987\u001b[0m \u001b[43m    \u001b[49m\u001b[43mannealing\u001b[49m\u001b[38;5;241;43m=\u001b[39;49m\u001b[38;5;28;43mself\u001b[39;49m\u001b[38;5;241;43m.\u001b[39;49m\u001b[43mannealing\u001b[49m\u001b[43m,\u001b[49m\n\u001b[0;32m   1988\u001b[0m \u001b[43m    \u001b[49m\u001b[43mtimeout_in_seconds\u001b[49m\u001b[38;5;241;43m=\u001b[39;49m\u001b[38;5;28;43mself\u001b[39;49m\u001b[38;5;241;43m.\u001b[39;49m\u001b[43mtimeout_in_seconds\u001b[49m\u001b[43m,\u001b[49m\n\u001b[0;32m   1989\u001b[0m \u001b[43m    \u001b[49m\u001b[43mcrossover_probability\u001b[49m\u001b[38;5;241;43m=\u001b[39;49m\u001b[38;5;28;43mself\u001b[39;49m\u001b[38;5;241;43m.\u001b[39;49m\u001b[43mcrossover_probability\u001b[49m\u001b[43m,\u001b[49m\n\u001b[0;32m   1990\u001b[0m \u001b[43m    \u001b[49m\u001b[43mskip_mutation_failures\u001b[49m\u001b[38;5;241;43m=\u001b[39;49m\u001b[38;5;28;43mself\u001b[39;49m\u001b[38;5;241;43m.\u001b[39;49m\u001b[43mskip_mutation_failures\u001b[49m\u001b[43m,\u001b[49m\n\u001b[0;32m   1991\u001b[0m \u001b[43m    \u001b[49m\u001b[43mmax_evals\u001b[49m\u001b[38;5;241;43m=\u001b[39;49m\u001b[38;5;28;43mself\u001b[39;49m\u001b[38;5;241;43m.\u001b[39;49m\u001b[43mmax_evals\u001b[49m\u001b[43m,\u001b[49m\n\u001b[0;32m   1992\u001b[0m \u001b[43m    \u001b[49m\u001b[43mearly_stop_condition\u001b[49m\u001b[38;5;241;43m=\u001b[39;49m\u001b[43mearly_stop_condition\u001b[49m\u001b[43m,\u001b[49m\n\u001b[0;32m   1993\u001b[0m \u001b[43m    \u001b[49m\u001b[43mseed\u001b[49m\u001b[38;5;241;43m=\u001b[39;49m\u001b[43mseed\u001b[49m\u001b[43m,\u001b[49m\n\u001b[0;32m   1994\u001b[0m \u001b[43m    \u001b[49m\u001b[43mdeterministic\u001b[49m\u001b[38;5;241;43m=\u001b[39;49m\u001b[38;5;28;43mself\u001b[39;49m\u001b[38;5;241;43m.\u001b[39;49m\u001b[43mdeterministic\u001b[49m\u001b[43m,\u001b[49m\n\u001b[0;32m   1995\u001b[0m \u001b[43m    \u001b[49m\u001b[43mdefine_helper_functions\u001b[49m\u001b[38;5;241;43m=\u001b[39;49m\u001b[38;5;28;43;01mFalse\u001b[39;49;00m\u001b[43m,\u001b[49m\n\u001b[0;32m   1996\u001b[0m \u001b[43m\u001b[49m\u001b[43m)\u001b[49m\n\u001b[0;32m   1998\u001b[0m \u001b[38;5;28mself\u001b[39m\u001b[38;5;241m.\u001b[39mjulia_options_stream_ \u001b[38;5;241m=\u001b[39m jl_serialize(options)\n\u001b[0;32m   2000\u001b[0m \u001b[38;5;66;03m# Convert data to desired precision\u001b[39;00m\n",
      "File \u001b[1;32m~\\.julia\\packages\\PythonCall\\Nr75f\\src\\JlWrap\\any.jl:258\u001b[0m, in \u001b[0;36m__call__\u001b[1;34m(self, *args, **kwargs)\u001b[0m\n\u001b[0;32m    256\u001b[0m     return ValueBase.__dir__(self) + self._jl_callmethod($(pyjl_methodnum(pyjlany_dir)))\n\u001b[0;32m    257\u001b[0m def __call__(self, *args, **kwargs):\n\u001b[1;32m--> 258\u001b[0m     return self._jl_callmethod($(pyjl_methodnum(pyjlany_call)), args, kwargs)\n\u001b[0;32m    259\u001b[0m def __bool__(self):\n\u001b[0;32m    260\u001b[0m     return True\n",
      "\u001b[1;31mJuliaError\u001b[0m: Operator log is not in the operator set.\nStacktrace:\n [1] error(s::String)\n   @ Base .\\error.jl:35\n [2] build_nested_constraints(; binary_operators::Any, unary_operators::Any, nested_constraints::Dict{Function, Dict{Function, Int64}})\n   @ SymbolicRegression.CoreModule.OptionsModule C:\\Users\\19464\\.julia\\packages\\SymbolicRegression\\BInZG\\src\\Options.jl:113\n [3] Options(; defaults::Union{Nothing, VersionNumber}, binary_operators::Any, unary_operators::Any, maxsize::Union{Nothing, Integer}, maxdepth::Union{Nothing, Integer}, expression_type::Type{<:AbstractExpression}, expression_options::NamedTuple, node_type::Type{<:AbstractExpressionNode}, populations::Union{Nothing, Integer}, population_size::Union{Nothing, Integer}, ncycles_per_iteration::Union{Nothing, Integer}, elementwise_loss::Union{Nothing, Function, SupervisedLoss}, loss_function::Union{Nothing, Function}, dimensional_constraint_penalty::Union{Nothing, Real}, parsimony::Union{Nothing, Real}, constraints::Any, nested_constraints::Any, complexity_of_operators::Any, complexity_of_constants::Union{Nothing, Real}, complexity_of_variables::Union{Nothing, Real, AbstractVector}, warmup_maxsize_by::Union{Nothing, Real}, adaptive_parsimony_scaling::Union{Nothing, Real}, mutation_weights::Union{Nothing, SymbolicRegression.CoreModule.MutationWeightsModule.AbstractMutationWeights, NamedTuple, AbstractVector}, crossover_probability::Union{Nothing, Real}, annealing::Union{Nothing, Bool}, alpha::Union{Nothing, Real}, probability_negate_constant::Union{Nothing, Real}, tournament_selection_n::Union{Nothing, Integer}, tournament_selection_p::Union{Nothing, Real}, early_stop_condition::Union{Nothing, Function, Real}, batching::Union{Nothing, Bool}, batch_size::Union{Nothing, Integer}, dimensionless_constants_only::Bool, complexity_mapping::Nothing, use_frequency::Bool, use_frequency_in_tournament::Bool, should_simplify::Bool, perturbation_factor::Float64, skip_mutation_failures::Bool, optimizer_algorithm::String, optimizer_nrestarts::Int64, optimizer_probability::Float64, optimizer_iterations::Int64, optimizer_f_calls_limit::Nothing, optimizer_options::Nothing, should_optimize_constants::Bool, migration::Bool, hof_migration::Bool, fraction_replaced::Float64, fraction_replaced_hof::Float64, topn::Int64, timeout_in_seconds::Nothing, max_evals::Nothing, turbo::Bool, bumper::Bool, autodiff_backend::Nothing, deterministic::Bool, seed::Int64, verbosity::Nothing, print_precision::Int64, progress::Nothing, output_directory::String, save_to_file::Bool, bin_constraints::Vector{Tuple{Int64, Int64}}, una_constraints::Vector{Int64}, terminal_width::Nothing, use_recorder::Bool, recorder_file::String, define_helper_functions::Bool, output_file::Nothing, fast_cycle::Bool, npopulations::Int64, npop::Int64, deprecated_return_state::Nothing, kws::@Kwargs{})\n   @ SymbolicRegression.CoreModule.OptionsModule C:\\Users\\19464\\.julia\\packages\\SymbolicRegression\\BInZG\\src\\Options.jl:750\n [4] pyjlany_call(self::Type{Options}, args_::Py, kwargs_::Py)\n   @ PythonCall.JlWrap C:\\Users\\19464\\.julia\\packages\\PythonCall\\Nr75f\\src\\JlWrap\\any.jl:40\n [5] _pyjl_callmethod(f::Any, self_::Ptr{PythonCall.C.PyObject}, args_::Ptr{PythonCall.C.PyObject}, nargs::Int64)\n   @ PythonCall.JlWrap C:\\Users\\19464\\.julia\\packages\\PythonCall\\Nr75f\\src\\JlWrap\\base.jl:73\n [6] _pyjl_callmethod(o::Ptr{PythonCall.C.PyObject}, args::Ptr{PythonCall.C.PyObject})\n   @ PythonCall.JlWrap.Cjl C:\\Users\\19464\\.julia\\packages\\PythonCall\\Nr75f\\src\\JlWrap\\C.jl:63"
     ]
    }
   ],
   "source": [
    "import numpy as np\n",
    "import pandas as pd\n",
    "from pysr import PySRRegressor\n",
    "import matplotlib.pyplot as plt\n",
    "\n",
    "# 1. 读取数据\n",
    "df = pd.read_csv('./train.csv')\n",
    "x = df['x'].values\n",
    "v = df['v'].values\n",
    "a = df['a'].values\n",
    "\n",
    "X = np.vstack((x, v)).T\n",
    "y = a.T\n",
    "\n",
    "# 定义 PySR 模型\n",
    "model = PySRRegressor(\n",
    "    niterations=100,  # 迭代次数\n",
    "    populations=30,  # 种群数量\n",
    "    binary_operators=[\"+\", \"-\", \"*\", \"/\",\"^\"],  # 二元操作符\n",
    "    unary_operators=[\"sin\", \"cos\",\"exp\"],  # 一元操作符\n",
    "    nested_constraints={\n",
    "                \"sin\": {\"cos\": 0,\"sin\":0},  # 禁止 sin(cos(x))\n",
    "                \"exp\": {\"exp\": 0,\"cos\": 0,\"sin\":0},  # 禁止 exp(exp(x))\n",
    "                \"cos\": {\"sin\": 0,\"cos\": 0},\n",
    "            },\n",
    "    constraints={\n",
    "        \"^\": (-1, 1)  # 再次尝试限制指数为常数\n",
    "    },\n",
    "    elementwise_loss=\"L2DistLoss()\",  # 损失函数\n",
    "    parallelism='multithreading',  # 启用多线程\n",
    "    verbosity=1,  # 显示详细日志 (verbosity 而不是 verbose)\n",
    ")\n",
    "\n",
    "# 拟合模型\n",
    "print(\"Fitting model...\")\n",
    "model.fit(X, y)\n",
    "\n",
    "# 输出最佳表达式\n",
    "for i, expr in enumerate(model.equations_):\n",
    "    print(f\"Best Expression for output {i+1}: {expr}\")\n",
    "\n"
   ]
  },
  {
   "cell_type": "code",
   "execution_count": null,
   "id": "5e566eae",
   "metadata": {},
   "outputs": [],
   "source": []
  }
 ],
 "metadata": {
  "kernelspec": {
   "display_name": "pytorch",
   "language": "python",
   "name": "python3"
  },
  "language_info": {
   "codemirror_mode": {
    "name": "ipython",
    "version": 3
   },
   "file_extension": ".py",
   "mimetype": "text/x-python",
   "name": "python",
   "nbconvert_exporter": "python",
   "pygments_lexer": "ipython3",
   "version": "3.12.8"
  }
 },
 "nbformat": 4,
 "nbformat_minor": 5
}
