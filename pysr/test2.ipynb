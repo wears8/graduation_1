{
 "cells": [
  {
   "cell_type": "code",
   "execution_count": 3,
   "id": "c89813e3",
   "metadata": {},
   "outputs": [
    {
     "name": "stdout",
     "output_type": "stream",
     "text": [
      "开始训练模型...\n"
     ]
    },
    {
     "name": "stderr",
     "output_type": "stream",
     "text": [
      "c:\\anacoda\\envs\\pytorch\\Lib\\site-packages\\pysr\\sr.py:2766: UserWarning: Note: it looks like you are running in Jupyter. The progress bar will be turned off.\n",
      "  warnings.warn(\n",
      "[ Info: Started!\n",
      "[ Info: Final population:\n",
      "[ Info: Results saved to:\n"
     ]
    },
    {
     "name": "stdout",
     "output_type": "stream",
     "text": [
      "───────────────────────────────────────────────────────────────────────────────────────────────────\n",
      "Complexity  Loss       Score      Equation\n",
      "1           3.483e+00  1.594e+01  y = -0.084803\n",
      "3           1.031e-02  2.911e+00  y = x₀ / -0.25059\n",
      "5           1.025e-02  2.588e-03  y = -0.0073072 - (x₀ * 3.9899)\n",
      "7           1.529e-03  9.515e-01  y = (x₀ * -3.9985) - (x₁ * 0.20259)\n",
      "8           1.529e-03  3.602e-04  y = (x₀ * -3.9984) - sin(x₁ * 0.2032)\n",
      "9           1.528e-03  3.318e-04  y = sin(sin(x₁ * -0.20383)) + (x₀ * -3.9984)\n",
      "10          1.528e-03  2.909e-04  y = (x₀ * -3.9986) - sin((0.0048461 - x₁) * -0.20339)\n",
      "───────────────────────────────────────────────────────────────────────────────────────────────────\n",
      "训练完成!\n",
      "\n",
      "\n",
      "按损失值排序的前5个表达式：\n",
      "==================================================\n",
      "\n",
      "第1名表达式:\n",
      "SymPy形式: x0*(-3.9985516) - sin((0.0048460974 - x1)*(-0.20339295))\n",
      "损失值: 1.527625e-03\n",
      "------------------------------\n",
      "\n",
      "第2名表达式:\n",
      "SymPy形式: x0*(-3.9984415) + sin(sin(x1*(-0.20382892)))\n",
      "损失值: 1.528069e-03\n",
      "------------------------------\n",
      "\n",
      "第3名表达式:\n",
      "SymPy形式: x0*(-3.998449) - sin(x1*0.2031967)\n",
      "损失值: 1.528577e-03\n",
      "------------------------------\n",
      "\n",
      "第4名表达式:\n",
      "SymPy形式: x0*(-3.9984515) - 0.20258717*x1\n",
      "损失值: 1.529128e-03\n",
      "------------------------------\n",
      "\n",
      "第5名表达式:\n",
      "SymPy形式: -3.989942*x0 - 0.0073071914\n",
      "损失值: 1.025330e-02\n",
      "------------------------------\n",
      "  - outputs\\20250417_000538_QkQpCN\\hall_of_fame.csv\n"
     ]
    }
   ],
   "source": [
    "import numpy as np\n",
    "from pysr import PySRRegressor\n",
    "from update_expressions import update_expressions, ExpressionUpdater\n",
    "\n",
    "# 生成测试数据\n",
    "np.random.seed(42)  # 设置随机种子以确保可重复性\n",
    "n_samples = 1000\n",
    "\n",
    "# 生成时间序列\n",
    "t = np.linspace(0, 10, n_samples)\n",
    "\n",
    "# 生成阻尼振荡器的数据\n",
    "omega = 2.0  # 角频率\n",
    "gamma = 0.1  # 阻尼系数\n",
    "\n",
    "# 真实的位置函数（解析解）\n",
    "x = np.exp(-gamma * t) * np.cos(np.sqrt(omega**2 - gamma**2) * t)\n",
    "v = -gamma * x + np.exp(-gamma * t) * np.sin(np.sqrt(omega**2 - gamma**2) * t)\n",
    "\n",
    "# 添加一些噪声\n",
    "x_noisy = x + np.random.normal(0, 0.01, n_samples)\n",
    "v_noisy = v + np.random.normal(0, 0.01, n_samples)\n",
    "\n",
    "# 计算真实的加速度（用于训练）\n",
    "a = -omega**2 * x - 2*gamma * v\n",
    "\n",
    "# 准备训练数据\n",
    "X = np.column_stack((x_noisy, v_noisy))\n",
    "y = a\n",
    "\n",
    "# 配置 PySR\n",
    "model = PySRRegressor(\n",
    "    niterations=20,  # 减少迭代次数以加快测试\n",
    "    binary_operators=[\"+\", \"*\", \"-\", \"/\"],\n",
    "    unary_operators=[\"sin\", \"cos\"],\n",
    "    maxsize=10,\n",
    "    populations=20,\n",
    "    verbosity=1\n",
    ")\n",
    "\n",
    "print(\"开始训练模型...\")\n",
    "model.fit(X, y)\n",
    "print(\"训练完成!\\n\")\n",
    "\n",
    "# 显示前5个最佳表达式\n",
    "print(\"\\n按损失值排序的前5个表达式：\")\n",
    "print(\"=\" * 50)\n",
    "sorted_equations = model.equations_.sort_values('loss', ascending=True)\n",
    "for i in range(min(5, len(sorted_equations))):\n",
    "    expr = sorted_equations.iloc[i]\n",
    "    print(f\"\\n第{i+1}名表达式:\")\n",
    "    print(f\"SymPy形式: {expr['sympy_format']}\")\n",
    "    print(f\"损失值: {expr['loss']:.6e}\")\n",
    "    print(\"-\" * 30)"
   ]
  },
  {
   "cell_type": "code",
   "execution_count": 4,
   "id": "9df0b765",
   "metadata": {},
   "outputs": [
    {
     "name": "stdout",
     "output_type": "stream",
     "text": [
      "测试 numpy 版本:\n",
      "==================================================\n",
      "numpy 版本测试完成!\n",
      "\n",
      "\n",
      "测试 body 版本:\n",
      "==================================================\n",
      "body 版本测试完成!\n"
     ]
    }
   ],
   "source": [
    "# 测试 update_expressions 模块\n",
    "\n",
    "# 1. 测试 numpy 版本\n",
    "print(\"测试 numpy 版本:\")\n",
    "print(\"=\" * 50)\n",
    "update_expressions('specification_oscillator1_numpy.txt', model, top_n=3)\n",
    "print(\"numpy 版本测试完成!\\n\")\n",
    "\n",
    "# 2. 测试 body 版本\n",
    "print(\"\\n测试 body 版本:\")\n",
    "print(\"=\" * 50)\n",
    "update_expressions('specification_oscillator1_body.txt', model, top_n=5)\n",
    "print(\"body 版本测试完成!\")"
   ]
  },
  {
   "cell_type": "code",
   "execution_count": 5,
   "id": "d2899070",
   "metadata": {},
   "outputs": [
    {
     "name": "stdout",
     "output_type": "stream",
     "text": [
      "Numpy 版本信息:\n",
      "变量映射: {'x0': 'x', 'x1': 'v'}\n",
      "数学库前缀: jnp.\n",
      "\n",
      "处理后的表达式:\n",
      "\n",
      "表达式 1:\n",
      "dv = x*(params[0]) - jnp.sin((params[1] - v)*(params[2]))\n",
      "return dv\n",
      "------------------------------\n",
      "\n",
      "表达式 2:\n",
      "dv = x*(params[0]) + jnp.sin(jnp.sin(v*(params[1])))\n",
      "return dv\n",
      "------------------------------\n"
     ]
    }
   ],
   "source": [
    "# 详细测试 ExpressionUpdater 类\n",
    "\n",
    "# 测试 numpy 版本的详细信息\n",
    "updater_numpy = ExpressionUpdater('specification_oscillator1_numpy.txt')\n",
    "print(\"Numpy 版本信息:\")\n",
    "print(f\"变量映射: {updater_numpy.var_mapping}\")\n",
    "print(f\"数学库前缀: {updater_numpy.math_prefix}\\n\")\n",
    "\n",
    "# 获取处理后的表达式\n",
    "processed_exprs = updater_numpy.process_expressions(model, top_n=2)\n",
    "print(\"处理后的表达式:\")\n",
    "for i, expr in enumerate(processed_exprs, 1):\n",
    "    print(f\"\\n表达式 {i}:\")\n",
    "    print(expr)\n",
    "    print(\"-\" * 30)"
   ]
  },
  {
   "cell_type": "code",
   "execution_count": null,
   "id": "9b71ce63",
   "metadata": {},
   "outputs": [],
   "source": []
  }
 ],
 "metadata": {
  "kernelspec": {
   "display_name": "pytorch",
   "language": "python",
   "name": "python3"
  },
  "language_info": {
   "codemirror_mode": {
    "name": "ipython",
    "version": 3
   },
   "file_extension": ".py",
   "mimetype": "text/x-python",
   "name": "python",
   "nbconvert_exporter": "python",
   "pygments_lexer": "ipython3",
   "version": "3.12.8"
  }
 },
 "nbformat": 4,
 "nbformat_minor": 5
}
