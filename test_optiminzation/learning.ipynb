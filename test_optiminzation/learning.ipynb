{
 "cells": [
  {
   "cell_type": "markdown",
   "id": "b4905897",
   "metadata": {},
   "source": [
    "SciPy 的 BFGS：\n",
    "\n",
    "对于小型问题，收敛性较好，稳定性经过多年验证。\n",
    "\n",
    "但在高维或病态问题（Hessian 矩阵条件数较高）上可能因内存限制或数值误差表现不佳。\n",
    "\n",
    "JAX 的 L-BFGS：\n",
    "\n",
    "L-BFGS 的有限内存特性使其在大规模问题上更稳定，尤其在高维空间中。\n",
    "\n",
    "收敛速度可能略慢于完整 BFGS，但通过调整历史向量数量（\n",
    "𝑚\n",
    "m）可优化性能。\n",
    "\n",
    "结合 JAX 的精确梯度和数值稳定性，适合复杂的非凸优化问题。"
   ]
  },
  {
   "cell_type": "markdown",
   "id": "40dc19a8",
   "metadata": {},
   "source": [
    "当不给定梯度计算的函数时，SCIPY的BFGS不会收敛到0，这是一个小缺点。但计算要比JAX快速。"
   ]
  },
  {
   "cell_type": "code",
   "execution_count": 20,
   "id": "d83d5ae9",
   "metadata": {},
   "outputs": [
    {
     "name": "stdout",
     "output_type": "stream",
     "text": [
      "[-1.07505143e-08 -1.07505143e-08]\n"
     ]
    }
   ],
   "source": [
    "from scipy.optimize import minimize\n",
    "import numpy as np\n",
    "\n",
    "def objective(x):\n",
    "    return x[0]**2 + x[1]**2 \n",
    "\n",
    "def gradient(x):\n",
    "    return np.array([2*x[0], 2*x[1]])\n",
    "\n",
    "result = minimize(objective, x0=np.array([1.0, 1.0]), method='BFGS')\n",
    "print(result.x)\n"
   ]
  },
  {
   "cell_type": "code",
   "execution_count": 15,
   "id": "fcadeaa9",
   "metadata": {},
   "outputs": [
    {
     "name": "stdout",
     "output_type": "stream",
     "text": [
      "[0. 0.]\n"
     ]
    }
   ],
   "source": [
    "import jax\n",
    "from jax import jit\n",
    "import jax.numpy as jnp\n",
    "from jaxopt import LBFGS\n",
    "\n",
    "@jit\n",
    "def objective(x):\n",
    "    return x[0]**2 + x[1]**2\n",
    "\n",
    "lbfgs = LBFGS(fun=objective, maxiter=100)\n",
    "x0 = jnp.array([1.0, 1.0])\n",
    "result = lbfgs.run(x0)\n",
    "print(result.params)\n"
   ]
  },
  {
   "cell_type": "code",
   "execution_count": 21,
   "id": "8ba10a4c",
   "metadata": {},
   "outputs": [
    {
     "ename": "ModuleNotFoundError",
     "evalue": "No module named 'pso_jax'",
     "output_type": "error",
     "traceback": [
      "\u001b[1;31m---------------------------------------------------------------------------\u001b[0m",
      "\u001b[1;31mModuleNotFoundError\u001b[0m                       Traceback (most recent call last)",
      "Cell \u001b[1;32mIn[21], line 3\u001b[0m\n\u001b[0;32m      1\u001b[0m \u001b[38;5;28;01mimport\u001b[39;00m \u001b[38;5;21;01mjax\u001b[39;00m\n\u001b[0;32m      2\u001b[0m \u001b[38;5;28;01mimport\u001b[39;00m \u001b[38;5;21;01mjax\u001b[39;00m\u001b[38;5;21;01m.\u001b[39;00m\u001b[38;5;21;01mnumpy\u001b[39;00m \u001b[38;5;28;01mas\u001b[39;00m \u001b[38;5;21;01mjnp\u001b[39;00m\n\u001b[1;32m----> 3\u001b[0m \u001b[38;5;28;01mfrom\u001b[39;00m \u001b[38;5;21;01mpso_jax\u001b[39;00m \u001b[38;5;28;01mimport\u001b[39;00m PSO  \u001b[38;5;66;03m# PSO 是主要的优化器类\u001b[39;00m\n\u001b[0;32m      5\u001b[0m \u001b[38;5;66;03m# 定义简单的适应度函数：在重量约束下最大化总价值\u001b[39;00m\n\u001b[0;32m      6\u001b[0m values \u001b[38;5;241m=\u001b[39m jnp\u001b[38;5;241m.\u001b[39marray([\u001b[38;5;241m10\u001b[39m, \u001b[38;5;241m15\u001b[39m, \u001b[38;5;241m20\u001b[39m, \u001b[38;5;241m25\u001b[39m])\n",
      "\u001b[1;31mModuleNotFoundError\u001b[0m: No module named 'pso_jax'"
     ]
    }
   ],
   "source": [
    "import jax\n",
    "import jax.numpy as jnp\n",
    "from pso_jax import PSO  # PSO 是主要的优化器类\n",
    "\n",
    "# 定义简单的适应度函数：在重量约束下最大化总价值\n",
    "values = jnp.array([10, 15, 20, 25])\n",
    "weights = jnp.array([2, 3, 5, 7])\n",
    "capacity = 10\n",
    "\n",
    "def fitness(bitmask):\n",
    "    # bitmask ∈ [0,1]^4 连续值 → 后续四舍五入成 0/1\n",
    "    selection = jnp.round(bitmask)\n",
    "    total_weight = jnp.dot(selection, weights)\n",
    "    total_value  = jnp.dot(selection, values)\n",
    "    # 超重则惩罚为 0\n",
    "    return jnp.where(total_weight <= capacity, total_value, 0.0)\n",
    "\n",
    "# 初始化 PSO 优化器\n",
    "pso = PSO(\n",
    "    dim=values.shape[0],          # 问题维度\n",
    "    num_particles=50,             # 粒子群规模\n",
    "    inertia=0.7,                  # 惯性系数\n",
    "    cognitive=1.5, social=1.5,    # 认知与社交加速系数\n",
    "    bounds=(0.0, 1.0)             # 搜索空间为 [0,1]\n",
    ")\n",
    "\n",
    "# 随机种子\n",
    "key = jax.random.PRNGKey(42)\n",
    "\n",
    "# 运行优化：返回最优位置和最优适应度\n",
    "best_pos, best_val = pso.optimize(key, fitness, num_iters=100)\n",
    "\n",
    "print(\"最优二进制选择：\", jnp.round(best_pos))\n",
    "print(\"找到的最优价值：  \", best_val)\n"
   ]
  },
  {
   "cell_type": "code",
   "execution_count": 22,
   "id": "17e38990",
   "metadata": {},
   "outputs": [
    {
     "name": "stdout",
     "output_type": "stream",
     "text": [
      "Collecting git+https://github.com/BHI-Research/PSO-JAX.git\n",
      "  Cloning https://github.com/BHI-Research/PSO-JAX.git to c:\\users\\19464\\appdata\\local\\temp\\pip-req-build-3yj62i5j\n",
      "  Resolved https://github.com/BHI-Research/PSO-JAX.git to commit b73566784f138cf37db70aac97ef84ea8c70889a\n"
     ]
    },
    {
     "name": "stderr",
     "output_type": "stream",
     "text": [
      "  Running command git clone --filter=blob:none --quiet https://github.com/BHI-Research/PSO-JAX.git 'C:\\Users\\19464\\AppData\\Local\\Temp\\pip-req-build-3yj62i5j'\n",
      "ERROR: git+https://github.com/BHI-Research/PSO-JAX.git does not appear to be a Python project: neither 'setup.py' nor 'pyproject.toml' found.\n"
     ]
    }
   ],
   "source": [
    "! pip install git+https://github.com/BHI-Research/PSO-JAX.git"
   ]
  },
  {
   "cell_type": "code",
   "execution_count": null,
   "id": "557d7310",
   "metadata": {},
   "outputs": [],
   "source": []
  }
 ],
 "metadata": {
  "kernelspec": {
   "display_name": "pytorch",
   "language": "python",
   "name": "python3"
  },
  "language_info": {
   "codemirror_mode": {
    "name": "ipython",
    "version": 3
   },
   "file_extension": ".py",
   "mimetype": "text/x-python",
   "name": "python",
   "nbconvert_exporter": "python",
   "pygments_lexer": "ipython3",
   "version": "3.12.8"
  }
 },
 "nbformat": 4,
 "nbformat_minor": 5
}
